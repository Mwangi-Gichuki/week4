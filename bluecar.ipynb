{
 "cells": [
  {
   "cell_type": "code",
   "execution_count": 3,
   "metadata": {},
   "outputs": [],
   "source": [
    "import pandas as pd\n",
    "\n",
    "import numpy as np \n",
    "\n",
    "import datetime"
   ]
  },
  {
   "cell_type": "code",
   "execution_count": 4,
   "metadata": {},
   "outputs": [
    {
     "output_type": "execute_result",
     "data": {
      "text/plain": "                              Address  Cars  Bluecar counter  Utilib counter  \\\n0                 2 Avenue de Suffren     0                0               0   \n1           145 Rue Raymond Losserand     6                6               0   \n2    2 Avenue John Fitzgerald Kennedy     3                3               0   \n3              51 Rue EugÃ¨ne OudinÃ©     3                3               1   \n4  6 avenue de la Porte de Champerret     3                3               0   \n5                8 Boulevard Voltaire     0                0               0   \n6                      37 rue Leblanc     0                0               0   \n7         17 Rue des Luaps ProlongÃ©e     3                3               1   \n8               34 avenue Jean Moulin     1                1               0   \n9        41 boulevard de Rochechouart     6                6               0   \n\n   Utilib 1.4 counter  Charge Slots Charging Status        City  \\\n0                   0             0     nonexistent       Paris   \n1                   0             0     operational       Paris   \n2                   2             0     operational  Le Bourget   \n3                   0             1     operational       Paris   \n4                   0             0     nonexistent       Paris   \n5                   0             0     nonexistent       Paris   \n6                   0             0     nonexistent       Paris   \n7                   0             0     nonexistent    Nanterre   \n8                   0             0     nonexistent       Paris   \n9                   0             0     nonexistent       Paris   \n\n                                   Displayed comment  \\\n0                                                NaN   \n1                                                NaN   \n2                                                NaN   \n3                                                NaN   \n4                                                NaN   \n5                                                NaN   \n6  Station en parking (niv -1), accÃ¨s 37 rue Leb...   \n7                                                NaN   \n8                                                NaN   \n9                                                NaN   \n\n                                  ID  ... Scheduled at Slots  Station type  \\\n0                    paris-suffren-2  ...          NaN     2       station   \n1         paris-raymondlosserand-145  ...          NaN     0       station   \n2  lebourget-johnfitzgeraldkennedy-2  ...          NaN     1       station   \n3              paris-eugeneoudine-51  ...          NaN     2       station   \n4          paris-portedechamperret-6  ...          NaN     3       station   \n5                   paris-voltaire-8  ...          NaN     4       station   \n6      paris-citroencevennes-parking  ...          NaN     0       station   \n7                  nanterre-luaps-17  ...          NaN     0       station   \n8                paris-jeanmoulin-34  ...          NaN     4       station   \n9               paris-anvers-parking  ...          NaN     0       station   \n\n   Status Subscription status  year  month day hour minute  \n0      ok         nonexistent  2018      4   8   11     43  \n1      ok         nonexistent  2018      4   6    7     24  \n2      ok         nonexistent  2018      4   3   20     14  \n3      ok         nonexistent  2018      4   4    4     37  \n4      ok         nonexistent  2018      4   8   17     23  \n5      ok         nonexistent  2018      4   6    7      2  \n6  closed         nonexistent  2018      4   8   18     20  \n7      ok         nonexistent  2018      4   4   22     13  \n8      ok         nonexistent  2018      4   2   22     58  \n9      ok         nonexistent  2018      4   4   15      2  \n\n[10 rows x 25 columns]",
      "text/html": "<div>\n<style scoped>\n    .dataframe tbody tr th:only-of-type {\n        vertical-align: middle;\n    }\n\n    .dataframe tbody tr th {\n        vertical-align: top;\n    }\n\n    .dataframe thead th {\n        text-align: right;\n    }\n</style>\n<table border=\"1\" class=\"dataframe\">\n  <thead>\n    <tr style=\"text-align: right;\">\n      <th></th>\n      <th>Address</th>\n      <th>Cars</th>\n      <th>Bluecar counter</th>\n      <th>Utilib counter</th>\n      <th>Utilib 1.4 counter</th>\n      <th>Charge Slots</th>\n      <th>Charging Status</th>\n      <th>City</th>\n      <th>Displayed comment</th>\n      <th>ID</th>\n      <th>...</th>\n      <th>Scheduled at</th>\n      <th>Slots</th>\n      <th>Station type</th>\n      <th>Status</th>\n      <th>Subscription status</th>\n      <th>year</th>\n      <th>month</th>\n      <th>day</th>\n      <th>hour</th>\n      <th>minute</th>\n    </tr>\n  </thead>\n  <tbody>\n    <tr>\n      <th>0</th>\n      <td>2 Avenue de Suffren</td>\n      <td>0</td>\n      <td>0</td>\n      <td>0</td>\n      <td>0</td>\n      <td>0</td>\n      <td>nonexistent</td>\n      <td>Paris</td>\n      <td>NaN</td>\n      <td>paris-suffren-2</td>\n      <td>...</td>\n      <td>NaN</td>\n      <td>2</td>\n      <td>station</td>\n      <td>ok</td>\n      <td>nonexistent</td>\n      <td>2018</td>\n      <td>4</td>\n      <td>8</td>\n      <td>11</td>\n      <td>43</td>\n    </tr>\n    <tr>\n      <th>1</th>\n      <td>145 Rue Raymond Losserand</td>\n      <td>6</td>\n      <td>6</td>\n      <td>0</td>\n      <td>0</td>\n      <td>0</td>\n      <td>operational</td>\n      <td>Paris</td>\n      <td>NaN</td>\n      <td>paris-raymondlosserand-145</td>\n      <td>...</td>\n      <td>NaN</td>\n      <td>0</td>\n      <td>station</td>\n      <td>ok</td>\n      <td>nonexistent</td>\n      <td>2018</td>\n      <td>4</td>\n      <td>6</td>\n      <td>7</td>\n      <td>24</td>\n    </tr>\n    <tr>\n      <th>2</th>\n      <td>2 Avenue John Fitzgerald Kennedy</td>\n      <td>3</td>\n      <td>3</td>\n      <td>0</td>\n      <td>2</td>\n      <td>0</td>\n      <td>operational</td>\n      <td>Le Bourget</td>\n      <td>NaN</td>\n      <td>lebourget-johnfitzgeraldkennedy-2</td>\n      <td>...</td>\n      <td>NaN</td>\n      <td>1</td>\n      <td>station</td>\n      <td>ok</td>\n      <td>nonexistent</td>\n      <td>2018</td>\n      <td>4</td>\n      <td>3</td>\n      <td>20</td>\n      <td>14</td>\n    </tr>\n    <tr>\n      <th>3</th>\n      <td>51 Rue EugÃ¨ne OudinÃ©</td>\n      <td>3</td>\n      <td>3</td>\n      <td>1</td>\n      <td>0</td>\n      <td>1</td>\n      <td>operational</td>\n      <td>Paris</td>\n      <td>NaN</td>\n      <td>paris-eugeneoudine-51</td>\n      <td>...</td>\n      <td>NaN</td>\n      <td>2</td>\n      <td>station</td>\n      <td>ok</td>\n      <td>nonexistent</td>\n      <td>2018</td>\n      <td>4</td>\n      <td>4</td>\n      <td>4</td>\n      <td>37</td>\n    </tr>\n    <tr>\n      <th>4</th>\n      <td>6 avenue de la Porte de Champerret</td>\n      <td>3</td>\n      <td>3</td>\n      <td>0</td>\n      <td>0</td>\n      <td>0</td>\n      <td>nonexistent</td>\n      <td>Paris</td>\n      <td>NaN</td>\n      <td>paris-portedechamperret-6</td>\n      <td>...</td>\n      <td>NaN</td>\n      <td>3</td>\n      <td>station</td>\n      <td>ok</td>\n      <td>nonexistent</td>\n      <td>2018</td>\n      <td>4</td>\n      <td>8</td>\n      <td>17</td>\n      <td>23</td>\n    </tr>\n    <tr>\n      <th>5</th>\n      <td>8 Boulevard Voltaire</td>\n      <td>0</td>\n      <td>0</td>\n      <td>0</td>\n      <td>0</td>\n      <td>0</td>\n      <td>nonexistent</td>\n      <td>Paris</td>\n      <td>NaN</td>\n      <td>paris-voltaire-8</td>\n      <td>...</td>\n      <td>NaN</td>\n      <td>4</td>\n      <td>station</td>\n      <td>ok</td>\n      <td>nonexistent</td>\n      <td>2018</td>\n      <td>4</td>\n      <td>6</td>\n      <td>7</td>\n      <td>2</td>\n    </tr>\n    <tr>\n      <th>6</th>\n      <td>37 rue Leblanc</td>\n      <td>0</td>\n      <td>0</td>\n      <td>0</td>\n      <td>0</td>\n      <td>0</td>\n      <td>nonexistent</td>\n      <td>Paris</td>\n      <td>Station en parking (niv -1), accÃ¨s 37 rue Leb...</td>\n      <td>paris-citroencevennes-parking</td>\n      <td>...</td>\n      <td>NaN</td>\n      <td>0</td>\n      <td>station</td>\n      <td>closed</td>\n      <td>nonexistent</td>\n      <td>2018</td>\n      <td>4</td>\n      <td>8</td>\n      <td>18</td>\n      <td>20</td>\n    </tr>\n    <tr>\n      <th>7</th>\n      <td>17 Rue des Luaps ProlongÃ©e</td>\n      <td>3</td>\n      <td>3</td>\n      <td>1</td>\n      <td>0</td>\n      <td>0</td>\n      <td>nonexistent</td>\n      <td>Nanterre</td>\n      <td>NaN</td>\n      <td>nanterre-luaps-17</td>\n      <td>...</td>\n      <td>NaN</td>\n      <td>0</td>\n      <td>station</td>\n      <td>ok</td>\n      <td>nonexistent</td>\n      <td>2018</td>\n      <td>4</td>\n      <td>4</td>\n      <td>22</td>\n      <td>13</td>\n    </tr>\n    <tr>\n      <th>8</th>\n      <td>34 avenue Jean Moulin</td>\n      <td>1</td>\n      <td>1</td>\n      <td>0</td>\n      <td>0</td>\n      <td>0</td>\n      <td>nonexistent</td>\n      <td>Paris</td>\n      <td>NaN</td>\n      <td>paris-jeanmoulin-34</td>\n      <td>...</td>\n      <td>NaN</td>\n      <td>4</td>\n      <td>station</td>\n      <td>ok</td>\n      <td>nonexistent</td>\n      <td>2018</td>\n      <td>4</td>\n      <td>2</td>\n      <td>22</td>\n      <td>58</td>\n    </tr>\n    <tr>\n      <th>9</th>\n      <td>41 boulevard de Rochechouart</td>\n      <td>6</td>\n      <td>6</td>\n      <td>0</td>\n      <td>0</td>\n      <td>0</td>\n      <td>nonexistent</td>\n      <td>Paris</td>\n      <td>NaN</td>\n      <td>paris-anvers-parking</td>\n      <td>...</td>\n      <td>NaN</td>\n      <td>0</td>\n      <td>station</td>\n      <td>ok</td>\n      <td>nonexistent</td>\n      <td>2018</td>\n      <td>4</td>\n      <td>4</td>\n      <td>15</td>\n      <td>2</td>\n    </tr>\n  </tbody>\n</table>\n<p>10 rows × 25 columns</p>\n</div>"
     },
     "metadata": {},
     "execution_count": 4
    }
   ],
   "source": [
    "# Loading the data from a csv file\n",
    "# and displaying the top 10 items from the csv file\n",
    "\n",
    "df = pd.read_csv('Autolib_dataset.csv')\n",
    "df.head(10)"
   ]
  },
  {
   "cell_type": "code",
   "execution_count": 5,
   "metadata": {},
   "outputs": [
    {
     "output_type": "stream",
     "name": "stdout",
     "text": "<class 'pandas.core.frame.DataFrame'>\nRangeIndex: 5000 entries, 0 to 4999\nData columns (total 25 columns):\n #   Column               Non-Null Count  Dtype \n---  ------               --------------  ----- \n 0   Address              5000 non-null   object\n 1   Cars                 5000 non-null   int64 \n 2   Bluecar counter      5000 non-null   int64 \n 3   Utilib counter       5000 non-null   int64 \n 4   Utilib 1.4 counter   5000 non-null   int64 \n 5   Charge Slots         5000 non-null   int64 \n 6   Charging Status      5000 non-null   object\n 7   City                 5000 non-null   object\n 8   Displayed comment    111 non-null    object\n 9   ID                   5000 non-null   object\n 10  Kind                 5000 non-null   object\n 11  Geo point            5000 non-null   object\n 12  Postal code          5000 non-null   int64 \n 13  Public name          5000 non-null   object\n 14  Rental status        5000 non-null   object\n 15  Scheduled at         47 non-null     object\n 16  Slots                5000 non-null   int64 \n 17  Station type         5000 non-null   object\n 18  Status               5000 non-null   object\n 19  Subscription status  5000 non-null   object\n 20  year                 5000 non-null   int64 \n 21  month                5000 non-null   int64 \n 22  day                  5000 non-null   int64 \n 23  hour                 5000 non-null   int64 \n 24  minute               5000 non-null   int64 \ndtypes: int64(12), object(13)\nmemory usage: 722.7+ KB\n"
    }
   ],
   "source": [
    "# Understanding the data\n",
    "\n",
    "df.info()"
   ]
  },
  {
   "cell_type": "code",
   "execution_count": 6,
   "metadata": {},
   "outputs": [
    {
     "output_type": "execute_result",
     "data": {
      "text/plain": "Address                   0\nCars                      0\nBluecar counter           0\nUtilib counter            0\nUtilib 1.4 counter        0\nCharge Slots              0\nCharging Status           0\nCity                      0\nDisplayed comment      4889\nID                        0\nKind                      0\nGeo point                 0\nPostal code               0\nPublic name               0\nRental status             0\nScheduled at           4953\nSlots                     0\nStation type              0\nStatus                    0\nSubscription status       0\nyear                      0\nmonth                     0\nday                       0\nhour                      0\nminute                    0\ndtype: int64"
     },
     "metadata": {},
     "execution_count": 6
    }
   ],
   "source": [
    "# Checking for null values\n",
    "# ---\n",
    "# \n",
    "df.isnull().sum()"
   ]
  },
  {
   "cell_type": "code",
   "execution_count": 7,
   "metadata": {},
   "outputs": [
    {
     "output_type": "execute_result",
     "data": {
      "text/plain": "                              Address  Cars  Bluecar counter  Utilib counter  \\\n0                 2 Avenue de Suffren     0                0               0   \n1           145 Rue Raymond Losserand     6                6               0   \n2    2 Avenue John Fitzgerald Kennedy     3                3               0   \n3              51 Rue EugÃ¨ne OudinÃ©     3                3               1   \n4  6 avenue de la Porte de Champerret     3                3               0   \n\n   Utilib 1.4 counter  Charge Slots Charging Status        City  \\\n0                   0             0     nonexistent       Paris   \n1                   0             0     operational       Paris   \n2                   2             0     operational  Le Bourget   \n3                   0             1     operational       Paris   \n4                   0             0     nonexistent       Paris   \n\n                                  ID     Kind  ... Rental status  Slots  \\\n0                    paris-suffren-2  STATION  ...   operational      2   \n1         paris-raymondlosserand-145  STATION  ...   operational      0   \n2  lebourget-johnfitzgeraldkennedy-2  STATION  ...   operational      1   \n3              paris-eugeneoudine-51  STATION  ...   operational      2   \n4          paris-portedechamperret-6  PARKING  ...   operational      3   \n\n  Station type Status  Subscription status  year month day  hour  minute  \n0      station     ok          nonexistent  2018     4   8    11      43  \n1      station     ok          nonexistent  2018     4   6     7      24  \n2      station     ok          nonexistent  2018     4   3    20      14  \n3      station     ok          nonexistent  2018     4   4     4      37  \n4      station     ok          nonexistent  2018     4   8    17      23  \n\n[5 rows x 23 columns]",
      "text/html": "<div>\n<style scoped>\n    .dataframe tbody tr th:only-of-type {\n        vertical-align: middle;\n    }\n\n    .dataframe tbody tr th {\n        vertical-align: top;\n    }\n\n    .dataframe thead th {\n        text-align: right;\n    }\n</style>\n<table border=\"1\" class=\"dataframe\">\n  <thead>\n    <tr style=\"text-align: right;\">\n      <th></th>\n      <th>Address</th>\n      <th>Cars</th>\n      <th>Bluecar counter</th>\n      <th>Utilib counter</th>\n      <th>Utilib 1.4 counter</th>\n      <th>Charge Slots</th>\n      <th>Charging Status</th>\n      <th>City</th>\n      <th>ID</th>\n      <th>Kind</th>\n      <th>...</th>\n      <th>Rental status</th>\n      <th>Slots</th>\n      <th>Station type</th>\n      <th>Status</th>\n      <th>Subscription status</th>\n      <th>year</th>\n      <th>month</th>\n      <th>day</th>\n      <th>hour</th>\n      <th>minute</th>\n    </tr>\n  </thead>\n  <tbody>\n    <tr>\n      <th>0</th>\n      <td>2 Avenue de Suffren</td>\n      <td>0</td>\n      <td>0</td>\n      <td>0</td>\n      <td>0</td>\n      <td>0</td>\n      <td>nonexistent</td>\n      <td>Paris</td>\n      <td>paris-suffren-2</td>\n      <td>STATION</td>\n      <td>...</td>\n      <td>operational</td>\n      <td>2</td>\n      <td>station</td>\n      <td>ok</td>\n      <td>nonexistent</td>\n      <td>2018</td>\n      <td>4</td>\n      <td>8</td>\n      <td>11</td>\n      <td>43</td>\n    </tr>\n    <tr>\n      <th>1</th>\n      <td>145 Rue Raymond Losserand</td>\n      <td>6</td>\n      <td>6</td>\n      <td>0</td>\n      <td>0</td>\n      <td>0</td>\n      <td>operational</td>\n      <td>Paris</td>\n      <td>paris-raymondlosserand-145</td>\n      <td>STATION</td>\n      <td>...</td>\n      <td>operational</td>\n      <td>0</td>\n      <td>station</td>\n      <td>ok</td>\n      <td>nonexistent</td>\n      <td>2018</td>\n      <td>4</td>\n      <td>6</td>\n      <td>7</td>\n      <td>24</td>\n    </tr>\n    <tr>\n      <th>2</th>\n      <td>2 Avenue John Fitzgerald Kennedy</td>\n      <td>3</td>\n      <td>3</td>\n      <td>0</td>\n      <td>2</td>\n      <td>0</td>\n      <td>operational</td>\n      <td>Le Bourget</td>\n      <td>lebourget-johnfitzgeraldkennedy-2</td>\n      <td>STATION</td>\n      <td>...</td>\n      <td>operational</td>\n      <td>1</td>\n      <td>station</td>\n      <td>ok</td>\n      <td>nonexistent</td>\n      <td>2018</td>\n      <td>4</td>\n      <td>3</td>\n      <td>20</td>\n      <td>14</td>\n    </tr>\n    <tr>\n      <th>3</th>\n      <td>51 Rue EugÃ¨ne OudinÃ©</td>\n      <td>3</td>\n      <td>3</td>\n      <td>1</td>\n      <td>0</td>\n      <td>1</td>\n      <td>operational</td>\n      <td>Paris</td>\n      <td>paris-eugeneoudine-51</td>\n      <td>STATION</td>\n      <td>...</td>\n      <td>operational</td>\n      <td>2</td>\n      <td>station</td>\n      <td>ok</td>\n      <td>nonexistent</td>\n      <td>2018</td>\n      <td>4</td>\n      <td>4</td>\n      <td>4</td>\n      <td>37</td>\n    </tr>\n    <tr>\n      <th>4</th>\n      <td>6 avenue de la Porte de Champerret</td>\n      <td>3</td>\n      <td>3</td>\n      <td>0</td>\n      <td>0</td>\n      <td>0</td>\n      <td>nonexistent</td>\n      <td>Paris</td>\n      <td>paris-portedechamperret-6</td>\n      <td>PARKING</td>\n      <td>...</td>\n      <td>operational</td>\n      <td>3</td>\n      <td>station</td>\n      <td>ok</td>\n      <td>nonexistent</td>\n      <td>2018</td>\n      <td>4</td>\n      <td>8</td>\n      <td>17</td>\n      <td>23</td>\n    </tr>\n  </tbody>\n</table>\n<p>5 rows × 23 columns</p>\n</div>"
     },
     "metadata": {},
     "execution_count": 7
    }
   ],
   "source": [
    "# The 'Displayed comment' and 'Scheduled at' columns were observed to have a lot of null values and are of no \n",
    "# significance to the analysis and therefore okay to be dropped\n",
    "# Displaying a sample of the new data set\n",
    "\n",
    "clean_df1 = df.drop(['Displayed comment','Scheduled at'], axis = 1)\n",
    "clean_df1.head()"
   ]
  },
  {
   "cell_type": "code",
   "execution_count": 8,
   "metadata": {},
   "outputs": [
    {
     "output_type": "execute_result",
     "data": {
      "text/plain": "                              Address  Cars  Bluecar counter  Utilib counter  \\\n0                 2 Avenue de Suffren     0                0               0   \n1           145 Rue Raymond Losserand     6                6               0   \n2    2 Avenue John Fitzgerald Kennedy     3                3               0   \n3              51 Rue EugÃ¨ne OudinÃ©     3                3               1   \n4  6 avenue de la Porte de Champerret     3                3               0   \n\n   Utilib 1.4 counter  Charge Slots Charging Status        City  \\\n0                   0             0     nonexistent       Paris   \n1                   0             0     operational       Paris   \n2                   2             0     operational  Le Bourget   \n3                   0             1     operational       Paris   \n4                   0             0     nonexistent       Paris   \n\n                                  ID     Kind  ... Postal code  \\\n0                    paris-suffren-2  STATION  ...       75015   \n1         paris-raymondlosserand-145  STATION  ...       75014   \n2  lebourget-johnfitzgeraldkennedy-2  STATION  ...       93350   \n3              paris-eugeneoudine-51  STATION  ...       75013   \n4          paris-portedechamperret-6  PARKING  ...       75017   \n\n                            Public name Rental status Slots  Station type  \\\n0                       Paris/Suffren/2   operational     2       station   \n1           Paris/Raymond Losserand/145   operational     0       station   \n2  Le Bourget/John Fitzgerald Kennedy/2   operational     1       station   \n3              Paris/EugÃ¨ne OudinÃ©/51   operational     2       station   \n4           Paris/Porte de Champerret/6   operational     3       station   \n\n  Status Subscription status hour  minute        Date  \n0     ok         nonexistent   11      43  2018-04-08  \n1     ok         nonexistent    7      24  2018-04-06  \n2     ok         nonexistent   20      14  2018-04-03  \n3     ok         nonexistent    4      37  2018-04-04  \n4     ok         nonexistent   17      23  2018-04-08  \n\n[5 rows x 21 columns]",
      "text/html": "<div>\n<style scoped>\n    .dataframe tbody tr th:only-of-type {\n        vertical-align: middle;\n    }\n\n    .dataframe tbody tr th {\n        vertical-align: top;\n    }\n\n    .dataframe thead th {\n        text-align: right;\n    }\n</style>\n<table border=\"1\" class=\"dataframe\">\n  <thead>\n    <tr style=\"text-align: right;\">\n      <th></th>\n      <th>Address</th>\n      <th>Cars</th>\n      <th>Bluecar counter</th>\n      <th>Utilib counter</th>\n      <th>Utilib 1.4 counter</th>\n      <th>Charge Slots</th>\n      <th>Charging Status</th>\n      <th>City</th>\n      <th>ID</th>\n      <th>Kind</th>\n      <th>...</th>\n      <th>Postal code</th>\n      <th>Public name</th>\n      <th>Rental status</th>\n      <th>Slots</th>\n      <th>Station type</th>\n      <th>Status</th>\n      <th>Subscription status</th>\n      <th>hour</th>\n      <th>minute</th>\n      <th>Date</th>\n    </tr>\n  </thead>\n  <tbody>\n    <tr>\n      <th>0</th>\n      <td>2 Avenue de Suffren</td>\n      <td>0</td>\n      <td>0</td>\n      <td>0</td>\n      <td>0</td>\n      <td>0</td>\n      <td>nonexistent</td>\n      <td>Paris</td>\n      <td>paris-suffren-2</td>\n      <td>STATION</td>\n      <td>...</td>\n      <td>75015</td>\n      <td>Paris/Suffren/2</td>\n      <td>operational</td>\n      <td>2</td>\n      <td>station</td>\n      <td>ok</td>\n      <td>nonexistent</td>\n      <td>11</td>\n      <td>43</td>\n      <td>2018-04-08</td>\n    </tr>\n    <tr>\n      <th>1</th>\n      <td>145 Rue Raymond Losserand</td>\n      <td>6</td>\n      <td>6</td>\n      <td>0</td>\n      <td>0</td>\n      <td>0</td>\n      <td>operational</td>\n      <td>Paris</td>\n      <td>paris-raymondlosserand-145</td>\n      <td>STATION</td>\n      <td>...</td>\n      <td>75014</td>\n      <td>Paris/Raymond Losserand/145</td>\n      <td>operational</td>\n      <td>0</td>\n      <td>station</td>\n      <td>ok</td>\n      <td>nonexistent</td>\n      <td>7</td>\n      <td>24</td>\n      <td>2018-04-06</td>\n    </tr>\n    <tr>\n      <th>2</th>\n      <td>2 Avenue John Fitzgerald Kennedy</td>\n      <td>3</td>\n      <td>3</td>\n      <td>0</td>\n      <td>2</td>\n      <td>0</td>\n      <td>operational</td>\n      <td>Le Bourget</td>\n      <td>lebourget-johnfitzgeraldkennedy-2</td>\n      <td>STATION</td>\n      <td>...</td>\n      <td>93350</td>\n      <td>Le Bourget/John Fitzgerald Kennedy/2</td>\n      <td>operational</td>\n      <td>1</td>\n      <td>station</td>\n      <td>ok</td>\n      <td>nonexistent</td>\n      <td>20</td>\n      <td>14</td>\n      <td>2018-04-03</td>\n    </tr>\n    <tr>\n      <th>3</th>\n      <td>51 Rue EugÃ¨ne OudinÃ©</td>\n      <td>3</td>\n      <td>3</td>\n      <td>1</td>\n      <td>0</td>\n      <td>1</td>\n      <td>operational</td>\n      <td>Paris</td>\n      <td>paris-eugeneoudine-51</td>\n      <td>STATION</td>\n      <td>...</td>\n      <td>75013</td>\n      <td>Paris/EugÃ¨ne OudinÃ©/51</td>\n      <td>operational</td>\n      <td>2</td>\n      <td>station</td>\n      <td>ok</td>\n      <td>nonexistent</td>\n      <td>4</td>\n      <td>37</td>\n      <td>2018-04-04</td>\n    </tr>\n    <tr>\n      <th>4</th>\n      <td>6 avenue de la Porte de Champerret</td>\n      <td>3</td>\n      <td>3</td>\n      <td>0</td>\n      <td>0</td>\n      <td>0</td>\n      <td>nonexistent</td>\n      <td>Paris</td>\n      <td>paris-portedechamperret-6</td>\n      <td>PARKING</td>\n      <td>...</td>\n      <td>75017</td>\n      <td>Paris/Porte de Champerret/6</td>\n      <td>operational</td>\n      <td>3</td>\n      <td>station</td>\n      <td>ok</td>\n      <td>nonexistent</td>\n      <td>17</td>\n      <td>23</td>\n      <td>2018-04-08</td>\n    </tr>\n  </tbody>\n</table>\n<p>5 rows × 21 columns</p>\n</div>"
     },
     "metadata": {},
     "execution_count": 8
    }
   ],
   "source": [
    "# Arranging the year, month and day columns into a date format\n",
    "# Dropping the combined columns as they are no longer necessary\n",
    "# Displaying a sample of the new data set\n",
    "\n",
    "date = clean_df1.apply(lambda x: datetime.date(x['year'], x['month'], x['day']), axis=1)\n",
    "clean_df1['Date'] = date\n",
    "clean_df2 = clean_df1.drop(['year', 'month', 'day'], axis = 1)\n",
    "clean_df2.head()"
   ]
  },
  {
   "cell_type": "code",
   "execution_count": 9,
   "metadata": {},
   "outputs": [
    {
     "output_type": "execute_result",
     "data": {
      "text/plain": "                              Address  Cars  Bluecar counter  Utilib counter  \\\n0                 2 Avenue de Suffren     0                0               0   \n1           145 Rue Raymond Losserand     6                6               0   \n2    2 Avenue John Fitzgerald Kennedy     3                3               0   \n3              51 Rue EugÃ¨ne OudinÃ©     3                3               1   \n4  6 avenue de la Porte de Champerret     3                3               0   \n\n   Utilib 1.4 counter  Charge Slots Charging Status        City  \\\n0                   0             0     nonexistent       Paris   \n1                   0             0     operational       Paris   \n2                   2             0     operational  Le Bourget   \n3                   0             1     operational       Paris   \n4                   0             0     nonexistent       Paris   \n\n                                  ID     Kind              Geo point  \\\n0                    paris-suffren-2  STATION         48.857, 2.2917   \n1         paris-raymondlosserand-145  STATION     48.83126, 2.313088   \n2  lebourget-johnfitzgeraldkennedy-2  STATION   48.938103, 2.4286035   \n3              paris-eugeneoudine-51  STATION  48.8250327, 2.3725162   \n4          paris-portedechamperret-6  PARKING  48.8862632, 2.2874511   \n\n   Postal code                           Public name Rental status  Slots  \\\n0        75015                       Paris/Suffren/2   operational      2   \n1        75014           Paris/Raymond Losserand/145   operational      0   \n2        93350  Le Bourget/John Fitzgerald Kennedy/2   operational      1   \n3        75013              Paris/EugÃ¨ne OudinÃ©/51   operational      2   \n4        75017           Paris/Porte de Champerret/6   operational      3   \n\n  Station type Status Subscription status        Date      Time  \n0      station     ok         nonexistent  2018-04-08  11:43:00  \n1      station     ok         nonexistent  2018-04-06  07:24:00  \n2      station     ok         nonexistent  2018-04-03  20:14:00  \n3      station     ok         nonexistent  2018-04-04  04:37:00  \n4      station     ok         nonexistent  2018-04-08  17:23:00  ",
      "text/html": "<div>\n<style scoped>\n    .dataframe tbody tr th:only-of-type {\n        vertical-align: middle;\n    }\n\n    .dataframe tbody tr th {\n        vertical-align: top;\n    }\n\n    .dataframe thead th {\n        text-align: right;\n    }\n</style>\n<table border=\"1\" class=\"dataframe\">\n  <thead>\n    <tr style=\"text-align: right;\">\n      <th></th>\n      <th>Address</th>\n      <th>Cars</th>\n      <th>Bluecar counter</th>\n      <th>Utilib counter</th>\n      <th>Utilib 1.4 counter</th>\n      <th>Charge Slots</th>\n      <th>Charging Status</th>\n      <th>City</th>\n      <th>ID</th>\n      <th>Kind</th>\n      <th>Geo point</th>\n      <th>Postal code</th>\n      <th>Public name</th>\n      <th>Rental status</th>\n      <th>Slots</th>\n      <th>Station type</th>\n      <th>Status</th>\n      <th>Subscription status</th>\n      <th>Date</th>\n      <th>Time</th>\n    </tr>\n  </thead>\n  <tbody>\n    <tr>\n      <th>0</th>\n      <td>2 Avenue de Suffren</td>\n      <td>0</td>\n      <td>0</td>\n      <td>0</td>\n      <td>0</td>\n      <td>0</td>\n      <td>nonexistent</td>\n      <td>Paris</td>\n      <td>paris-suffren-2</td>\n      <td>STATION</td>\n      <td>48.857, 2.2917</td>\n      <td>75015</td>\n      <td>Paris/Suffren/2</td>\n      <td>operational</td>\n      <td>2</td>\n      <td>station</td>\n      <td>ok</td>\n      <td>nonexistent</td>\n      <td>2018-04-08</td>\n      <td>11:43:00</td>\n    </tr>\n    <tr>\n      <th>1</th>\n      <td>145 Rue Raymond Losserand</td>\n      <td>6</td>\n      <td>6</td>\n      <td>0</td>\n      <td>0</td>\n      <td>0</td>\n      <td>operational</td>\n      <td>Paris</td>\n      <td>paris-raymondlosserand-145</td>\n      <td>STATION</td>\n      <td>48.83126, 2.313088</td>\n      <td>75014</td>\n      <td>Paris/Raymond Losserand/145</td>\n      <td>operational</td>\n      <td>0</td>\n      <td>station</td>\n      <td>ok</td>\n      <td>nonexistent</td>\n      <td>2018-04-06</td>\n      <td>07:24:00</td>\n    </tr>\n    <tr>\n      <th>2</th>\n      <td>2 Avenue John Fitzgerald Kennedy</td>\n      <td>3</td>\n      <td>3</td>\n      <td>0</td>\n      <td>2</td>\n      <td>0</td>\n      <td>operational</td>\n      <td>Le Bourget</td>\n      <td>lebourget-johnfitzgeraldkennedy-2</td>\n      <td>STATION</td>\n      <td>48.938103, 2.4286035</td>\n      <td>93350</td>\n      <td>Le Bourget/John Fitzgerald Kennedy/2</td>\n      <td>operational</td>\n      <td>1</td>\n      <td>station</td>\n      <td>ok</td>\n      <td>nonexistent</td>\n      <td>2018-04-03</td>\n      <td>20:14:00</td>\n    </tr>\n    <tr>\n      <th>3</th>\n      <td>51 Rue EugÃ¨ne OudinÃ©</td>\n      <td>3</td>\n      <td>3</td>\n      <td>1</td>\n      <td>0</td>\n      <td>1</td>\n      <td>operational</td>\n      <td>Paris</td>\n      <td>paris-eugeneoudine-51</td>\n      <td>STATION</td>\n      <td>48.8250327, 2.3725162</td>\n      <td>75013</td>\n      <td>Paris/EugÃ¨ne OudinÃ©/51</td>\n      <td>operational</td>\n      <td>2</td>\n      <td>station</td>\n      <td>ok</td>\n      <td>nonexistent</td>\n      <td>2018-04-04</td>\n      <td>04:37:00</td>\n    </tr>\n    <tr>\n      <th>4</th>\n      <td>6 avenue de la Porte de Champerret</td>\n      <td>3</td>\n      <td>3</td>\n      <td>0</td>\n      <td>0</td>\n      <td>0</td>\n      <td>nonexistent</td>\n      <td>Paris</td>\n      <td>paris-portedechamperret-6</td>\n      <td>PARKING</td>\n      <td>48.8862632, 2.2874511</td>\n      <td>75017</td>\n      <td>Paris/Porte de Champerret/6</td>\n      <td>operational</td>\n      <td>3</td>\n      <td>station</td>\n      <td>ok</td>\n      <td>nonexistent</td>\n      <td>2018-04-08</td>\n      <td>17:23:00</td>\n    </tr>\n  </tbody>\n</table>\n</div>"
     },
     "metadata": {},
     "execution_count": 9
    }
   ],
   "source": [
    "# Arranging the year, month and day columns into a date format\n",
    "# Dropping the combined columns as they are no longer necessary\n",
    "# Displaying a sample of the new data set\n",
    "time = df.apply(lambda x: datetime.time(x['hour'], x['minute'],), axis=1)\n",
    "clean_df2['Time'] = time\n",
    "clean_df3 = clean_df2.drop(['hour', 'minute'], axis = 1)\n",
    "clean_df3.head()"
   ]
  },
  {
   "cell_type": "code",
   "execution_count": 10,
   "metadata": {},
   "outputs": [
    {
     "output_type": "stream",
     "name": "stdout",
     "text": "<class 'pandas.core.frame.DataFrame'>\nRangeIndex: 5000 entries, 0 to 4999\nData columns (total 20 columns):\n #   Column               Non-Null Count  Dtype \n---  ------               --------------  ----- \n 0   Address              5000 non-null   object\n 1   Cars                 5000 non-null   int64 \n 2   Bluecar counter      5000 non-null   int64 \n 3   Utilib counter       5000 non-null   int64 \n 4   Utilib 1.4 counter   5000 non-null   int64 \n 5   Charge Slots         5000 non-null   int64 \n 6   Charging Status      5000 non-null   object\n 7   City                 5000 non-null   object\n 8   ID                   5000 non-null   object\n 9   Kind                 5000 non-null   object\n 10  Geo point            5000 non-null   object\n 11  Postal code          5000 non-null   int64 \n 12  Public name          5000 non-null   object\n 13  Rental status        5000 non-null   object\n 14  Slots                5000 non-null   int64 \n 15  Station type         5000 non-null   object\n 16  Status               5000 non-null   object\n 17  Subscription status  5000 non-null   object\n 18  Date                 5000 non-null   object\n 19  Time                 5000 non-null   object\ndtypes: int64(7), object(13)\nmemory usage: 527.4+ KB\n"
    }
   ],
   "source": [
    "# Confirming that all changes have been effected and checking the new data information \n",
    "\n",
    "clean_df3.info()"
   ]
  },
  {
   "cell_type": "code",
   "execution_count": null,
   "metadata": {},
   "outputs": [],
   "source": []
  }
 ],
 "metadata": {
  "language_info": {
   "codemirror_mode": {
    "name": "ipython",
    "version": 3
   },
   "file_extension": ".py",
   "mimetype": "text/x-python",
   "name": "python",
   "nbconvert_exporter": "python",
   "pygments_lexer": "ipython3",
   "version": "3.7.6-final"
  },
  "orig_nbformat": 2,
  "kernelspec": {
   "name": "python37632bit85ce2f264b1f44418c6db12f5b2a2512",
   "display_name": "Python 3.7.6 32-bit"
  }
 },
 "nbformat": 4,
 "nbformat_minor": 2
}